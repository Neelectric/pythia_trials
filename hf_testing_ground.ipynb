{
 "cells": [
  {
   "cell_type": "code",
   "execution_count": 5,
   "metadata": {},
   "outputs": [
    {
     "data": {
      "text/plain": [
       "{'id': 'Mercury_7220990',\n",
       " 'question': 'Which factor will most likely cause a person to develop a fever?',\n",
       " 'choices': {'text': ['a leg muscle relaxing after exercise',\n",
       "   'a bacterial population in the bloodstream',\n",
       "   'several viral particles on the skin',\n",
       "   'carbohydrates being digested in the stomach'],\n",
       "  'label': ['A', 'B', 'C', 'D']},\n",
       " 'answerKey': 'B'}"
      ]
     },
     "execution_count": 5,
     "metadata": {},
     "output_type": "execute_result"
    }
   ],
   "source": [
    "from datasets import load_dataset\n",
    "\n",
    "dataset = load_dataset(\"allenai/ai2_arc\", \"ARC-Easy\")\n",
    "dataset[\"train\"][0]"
   ]
  },
  {
   "cell_type": "code",
   "execution_count": 7,
   "metadata": {},
   "outputs": [
    {
     "data": {
      "text/plain": [
       "['BQA', 'MCQA', 'Readme.md']"
      ]
     },
     "execution_count": 7,
     "metadata": {},
     "output_type": "execute_result"
    }
   ],
   "source": [
    "# print names of files in directory \"LogicBench/LogicBench(Eval)\"\n",
    "import os\n",
    "path = \"LogicBench/LogicBench(Eval)\"\n",
    "files = os.listdir(path)\n",
    "files\n"
   ]
  }
 ],
 "metadata": {
  "kernelspec": {
   "display_name": "biollama",
   "language": "python",
   "name": "python3"
  },
  "language_info": {
   "codemirror_mode": {
    "name": "ipython",
    "version": 3
   },
   "file_extension": ".py",
   "mimetype": "text/x-python",
   "name": "python",
   "nbconvert_exporter": "python",
   "pygments_lexer": "ipython3",
   "version": "3.11.4"
  }
 },
 "nbformat": 4,
 "nbformat_minor": 2
}
